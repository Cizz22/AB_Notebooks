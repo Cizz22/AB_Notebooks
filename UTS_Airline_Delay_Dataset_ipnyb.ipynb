{
  "cells": [
    {
      "cell_type": "markdown",
      "metadata": {
        "id": "a7pu87rMxRqh"
      },
      "source": [
        "# Imports"
      ]
    },
    {
      "cell_type": "code",
      "execution_count": 21,
      "metadata": {
        "id": "2PA1pQMN4ke7"
      },
      "outputs": [],
      "source": [
        "import numpy as np\n",
        "import pandas as pd\n",
        "from sklearn.svm import SVC\n",
        "import seaborn as sns\n",
        "import matplotlib.pyplot as plt\n",
        "from sklearn.metrics import accuracy_score, confusion_matrix,ConfusionMatrixDisplay\n",
        "from sklearn.model_selection import train_test_split"
      ]
    },
    {
      "attachments": {},
      "cell_type": "markdown",
      "metadata": {
        "id": "cr2DAPkZutGX"
      },
      "source": [
        "# Data\n"
      ]
    },
    {
      "cell_type": "markdown",
      "metadata": {
        "id": "9dFWriAqwJOx"
      },
      "source": [
        "### Data Loading\n",
        "\n",
        "---\n",
        "\n"
      ]
    },
    {
      "cell_type": "code",
      "execution_count": 4,
      "metadata": {
        "colab": {
          "base_uri": "https://localhost:8080/",
          "height": 381
        },
        "id": "lqrFfhCa48jt",
        "outputId": "00a43707-a8cc-43e9-b7cd-32e5f867df4a"
      },
      "outputs": [
        {
          "data": {
            "text/html": [
              "<div>\n",
              "<style scoped>\n",
              "    .dataframe tbody tr th:only-of-type {\n",
              "        vertical-align: middle;\n",
              "    }\n",
              "\n",
              "    .dataframe tbody tr th {\n",
              "        vertical-align: top;\n",
              "    }\n",
              "\n",
              "    .dataframe thead th {\n",
              "        text-align: right;\n",
              "    }\n",
              "</style>\n",
              "<table border=\"1\" class=\"dataframe\">\n",
              "  <thead>\n",
              "    <tr style=\"text-align: right;\">\n",
              "      <th></th>\n",
              "      <th>Flight</th>\n",
              "      <th>Time</th>\n",
              "      <th>Length</th>\n",
              "      <th>Airline</th>\n",
              "      <th>AirportFrom</th>\n",
              "      <th>AirportTo</th>\n",
              "      <th>DayOfWeek</th>\n",
              "      <th>Class</th>\n",
              "    </tr>\n",
              "  </thead>\n",
              "  <tbody>\n",
              "    <tr>\n",
              "      <th>21403</th>\n",
              "      <td>2219.0</td>\n",
              "      <td>865.0</td>\n",
              "      <td>164.0</td>\n",
              "      <td>DL</td>\n",
              "      <td>MSP</td>\n",
              "      <td>AUS</td>\n",
              "      <td>3</td>\n",
              "      <td>0</td>\n",
              "    </tr>\n",
              "    <tr>\n",
              "      <th>121631</th>\n",
              "      <td>966.0</td>\n",
              "      <td>480.0</td>\n",
              "      <td>161.0</td>\n",
              "      <td>US</td>\n",
              "      <td>PWM</td>\n",
              "      <td>CLT</td>\n",
              "      <td>7</td>\n",
              "      <td>0</td>\n",
              "    </tr>\n",
              "    <tr>\n",
              "      <th>535152</th>\n",
              "      <td>2044.0</td>\n",
              "      <td>967.0</td>\n",
              "      <td>78.0</td>\n",
              "      <td>XE</td>\n",
              "      <td>MSN</td>\n",
              "      <td>CLE</td>\n",
              "      <td>7</td>\n",
              "      <td>1</td>\n",
              "    </tr>\n",
              "    <tr>\n",
              "      <th>487001</th>\n",
              "      <td>2596.0</td>\n",
              "      <td>460.0</td>\n",
              "      <td>64.0</td>\n",
              "      <td>XE</td>\n",
              "      <td>CLE</td>\n",
              "      <td>IND</td>\n",
              "      <td>1</td>\n",
              "      <td>0</td>\n",
              "    </tr>\n",
              "    <tr>\n",
              "      <th>69899</th>\n",
              "      <td>710.0</td>\n",
              "      <td>555.0</td>\n",
              "      <td>200.0</td>\n",
              "      <td>AA</td>\n",
              "      <td>DFW</td>\n",
              "      <td>LGA</td>\n",
              "      <td>7</td>\n",
              "      <td>0</td>\n",
              "    </tr>\n",
              "  </tbody>\n",
              "</table>\n",
              "</div>"
            ],
            "text/plain": [
              "        Flight   Time  Length Airline AirportFrom AirportTo  DayOfWeek  Class\n",
              "21403   2219.0  865.0   164.0      DL         MSP       AUS          3      0\n",
              "121631   966.0  480.0   161.0      US         PWM       CLT          7      0\n",
              "535152  2044.0  967.0    78.0      XE         MSN       CLE          7      1\n",
              "487001  2596.0  460.0    64.0      XE         CLE       IND          1      0\n",
              "69899    710.0  555.0   200.0      AA         DFW       LGA          7      0"
            ]
          },
          "execution_count": 4,
          "metadata": {},
          "output_type": "execute_result"
        }
      ],
      "source": [
        "df = pd.read_csv(\"data/airlines_delay.csv\")\n",
        "\n",
        "df = df.sample(frac=0.01, random_state=1)\n",
        "\n",
        "X = df.drop(['Class'], axis=1)\n",
        "y =\n",
        "df.head()"
      ]
    },
    {
      "cell_type": "markdown",
      "metadata": {
        "id": "ZNCUK6d_wZI6"
      },
      "source": [
        "### Data Summary\n",
        "\n",
        "---"
      ]
    },
    {
      "cell_type": "code",
      "execution_count": 5,
      "metadata": {
        "colab": {
          "base_uri": "https://localhost:8080/",
          "height": 166
        },
        "id": "OwAETEtP8ud6",
        "outputId": "0d05cd8f-7f60-4b67-eb61-315157b064f8"
      },
      "outputs": [
        {
          "name": "stdout",
          "output_type": "stream",
          "text": [
            "<class 'pandas.core.frame.DataFrame'>\n",
            "Int64Index: 5394 entries, 21403 to 427197\n",
            "Data columns (total 8 columns):\n",
            " #   Column       Non-Null Count  Dtype  \n",
            "---  ------       --------------  -----  \n",
            " 0   Flight       5394 non-null   float64\n",
            " 1   Time         5394 non-null   float64\n",
            " 2   Length       5394 non-null   float64\n",
            " 3   Airline      5394 non-null   object \n",
            " 4   AirportFrom  5394 non-null   object \n",
            " 5   AirportTo    5394 non-null   object \n",
            " 6   DayOfWeek    5394 non-null   int64  \n",
            " 7   Class        5394 non-null   int64  \n",
            "dtypes: float64(3), int64(2), object(3)\n",
            "memory usage: 379.3+ KB\n"
          ]
        }
      ],
      "source": [
        "df.info()"
      ]
    },
    {
      "cell_type": "markdown",
      "metadata": {
        "id": "P4G2T3uewc46"
      },
      "source": [
        "### Data Description\n",
        "\n",
        "---\n",
        "\n"
      ]
    },
    {
      "cell_type": "code",
      "execution_count": 6,
      "metadata": {
        "colab": {
          "base_uri": "https://localhost:8080/",
          "height": 300
        },
        "id": "D4zAUyAq8wyY",
        "outputId": "941c03f5-7888-46a8-98da-b3ce2c48a604"
      },
      "outputs": [
        {
          "data": {
            "text/html": [
              "<div>\n",
              "<style scoped>\n",
              "    .dataframe tbody tr th:only-of-type {\n",
              "        vertical-align: middle;\n",
              "    }\n",
              "\n",
              "    .dataframe tbody tr th {\n",
              "        vertical-align: top;\n",
              "    }\n",
              "\n",
              "    .dataframe thead th {\n",
              "        text-align: right;\n",
              "    }\n",
              "</style>\n",
              "<table border=\"1\" class=\"dataframe\">\n",
              "  <thead>\n",
              "    <tr style=\"text-align: right;\">\n",
              "      <th></th>\n",
              "      <th>Flight</th>\n",
              "      <th>Time</th>\n",
              "      <th>Length</th>\n",
              "      <th>DayOfWeek</th>\n",
              "      <th>Class</th>\n",
              "    </tr>\n",
              "  </thead>\n",
              "  <tbody>\n",
              "    <tr>\n",
              "      <th>count</th>\n",
              "      <td>5394.000000</td>\n",
              "      <td>5394.000000</td>\n",
              "      <td>5394.000000</td>\n",
              "      <td>5394.000000</td>\n",
              "      <td>5394.000000</td>\n",
              "    </tr>\n",
              "    <tr>\n",
              "      <th>mean</th>\n",
              "      <td>2438.118836</td>\n",
              "      <td>806.651650</td>\n",
              "      <td>130.400816</td>\n",
              "      <td>3.919726</td>\n",
              "      <td>0.453281</td>\n",
              "    </tr>\n",
              "    <tr>\n",
              "      <th>std</th>\n",
              "      <td>2064.819415</td>\n",
              "      <td>280.490176</td>\n",
              "      <td>69.619894</td>\n",
              "      <td>1.905434</td>\n",
              "      <td>0.497859</td>\n",
              "    </tr>\n",
              "    <tr>\n",
              "      <th>min</th>\n",
              "      <td>1.000000</td>\n",
              "      <td>20.000000</td>\n",
              "      <td>25.000000</td>\n",
              "      <td>1.000000</td>\n",
              "      <td>0.000000</td>\n",
              "    </tr>\n",
              "    <tr>\n",
              "      <th>25%</th>\n",
              "      <td>699.250000</td>\n",
              "      <td>565.000000</td>\n",
              "      <td>81.000000</td>\n",
              "      <td>2.000000</td>\n",
              "      <td>0.000000</td>\n",
              "    </tr>\n",
              "    <tr>\n",
              "      <th>50%</th>\n",
              "      <td>1834.000000</td>\n",
              "      <td>803.500000</td>\n",
              "      <td>115.000000</td>\n",
              "      <td>4.000000</td>\n",
              "      <td>0.000000</td>\n",
              "    </tr>\n",
              "    <tr>\n",
              "      <th>75%</th>\n",
              "      <td>3755.750000</td>\n",
              "      <td>1040.000000</td>\n",
              "      <td>160.000000</td>\n",
              "      <td>5.000000</td>\n",
              "      <td>1.000000</td>\n",
              "    </tr>\n",
              "    <tr>\n",
              "      <th>max</th>\n",
              "      <td>7804.000000</td>\n",
              "      <td>1439.000000</td>\n",
              "      <td>560.000000</td>\n",
              "      <td>7.000000</td>\n",
              "      <td>1.000000</td>\n",
              "    </tr>\n",
              "  </tbody>\n",
              "</table>\n",
              "</div>"
            ],
            "text/plain": [
              "            Flight         Time       Length    DayOfWeek        Class\n",
              "count  5394.000000  5394.000000  5394.000000  5394.000000  5394.000000\n",
              "mean   2438.118836   806.651650   130.400816     3.919726     0.453281\n",
              "std    2064.819415   280.490176    69.619894     1.905434     0.497859\n",
              "min       1.000000    20.000000    25.000000     1.000000     0.000000\n",
              "25%     699.250000   565.000000    81.000000     2.000000     0.000000\n",
              "50%    1834.000000   803.500000   115.000000     4.000000     0.000000\n",
              "75%    3755.750000  1040.000000   160.000000     5.000000     1.000000\n",
              "max    7804.000000  1439.000000   560.000000     7.000000     1.000000"
            ]
          },
          "execution_count": 6,
          "metadata": {},
          "output_type": "execute_result"
        }
      ],
      "source": [
        "df.describe()"
      ]
    },
    {
      "cell_type": "markdown",
      "metadata": {
        "id": "UbdhKzxSwgYZ"
      },
      "source": [
        "### Check Null Values\n",
        "\n",
        "---\n",
        "\n"
      ]
    },
    {
      "cell_type": "code",
      "execution_count": 7,
      "metadata": {
        "colab": {
          "base_uri": "https://localhost:8080/"
        },
        "id": "1UimFtCP8zdj",
        "outputId": "7bd8ae14-33f1-41cd-db4f-c6096f2339c1"
      },
      "outputs": [
        {
          "data": {
            "text/plain": [
              "Flight         False\n",
              "Time           False\n",
              "Length         False\n",
              "Airline        False\n",
              "AirportFrom    False\n",
              "AirportTo      False\n",
              "DayOfWeek      False\n",
              "Class          False\n",
              "dtype: bool"
            ]
          },
          "execution_count": 7,
          "metadata": {},
          "output_type": "execute_result"
        }
      ],
      "source": [
        "df.isna().any()"
      ]
    },
    {
      "cell_type": "code",
      "execution_count": 8,
      "metadata": {
        "colab": {
          "base_uri": "https://localhost:8080/"
        },
        "id": "AmyMdrxh9D1O",
        "outputId": "29eb15ae-44a5-4a36-c542-098bc9dc2fac"
      },
      "outputs": [
        {
          "data": {
            "text/plain": [
              "Flight         0\n",
              "Time           0\n",
              "Length         0\n",
              "Airline        0\n",
              "AirportFrom    0\n",
              "AirportTo      0\n",
              "DayOfWeek      0\n",
              "Class          0\n",
              "dtype: int64"
            ]
          },
          "execution_count": 8,
          "metadata": {},
          "output_type": "execute_result"
        }
      ],
      "source": [
        "df.isna().sum()"
      ]
    },
    {
      "cell_type": "markdown",
      "metadata": {
        "id": "GyjZX2hMwjlR"
      },
      "source": [
        "### Count Unique Values\n",
        "\n",
        "---\n",
        "\n"
      ]
    },
    {
      "cell_type": "code",
      "execution_count": 9,
      "metadata": {
        "colab": {
          "base_uri": "https://localhost:8080/"
        },
        "id": "aBVeQ_HA9GMF",
        "outputId": "7e1b70e7-13b5-4b98-de77-6a200ae963e0"
      },
      "outputs": [
        {
          "data": {
            "text/plain": [
              "Flight         3251\n",
              "Time            784\n",
              "Length          350\n",
              "Airline          18\n",
              "AirportFrom     235\n",
              "AirportTo       245\n",
              "DayOfWeek         7\n",
              "Class             2\n",
              "dtype: int64"
            ]
          },
          "execution_count": 9,
          "metadata": {},
          "output_type": "execute_result"
        }
      ],
      "source": [
        "df.nunique()"
      ]
    },
    {
      "cell_type": "markdown",
      "metadata": {
        "id": "tqCuprNLwnMI"
      },
      "source": [
        "Check Feature Correlation with Heatmap"
      ]
    },
    {
      "cell_type": "code",
      "execution_count": 28,
      "metadata": {
        "colab": {
          "base_uri": "https://localhost:8080/",
          "height": 610
        },
        "id": "q8_kaYJo9JeS",
        "outputId": "b9fb1d88-b463-4784-e095-e7781554922e"
      },
      "outputs": [
        {
          "data": {
            "text/plain": [
              "<Axes: >"
            ]
          },
          "execution_count": 28,
          "metadata": {},
          "output_type": "execute_result"
        },
        {
          "data": {
            "image/png": "[encoded data removed]",
            "text/plain": [
              "<Figure size 1200x1000 with 2 Axes>"
            ]
          },
          "metadata": {},
          "output_type": "display_data"
        }
      ],
      "source": [
        "##Heatmap without flight ID\n",
        "\n",
        "## Drop flight ID\n",
        "heat_df = df.drop(['Flight'], axis=1)\n",
        "\n",
        "corr = heat_df.corr()\n",
        "f,ax = plt.subplots(figsize=(12,10))\n",
        "sns.heatmap(corr,square=True,annot=True,annot_kws={'size':8}, cmap=\"RdYlGn\")"
      ]
    },
    {
      "attachments": {},
      "cell_type": "markdown",
      "metadata": {},
      "source": [
        "## Data Exploration"
      ]
    },
    {
      "cell_type": "markdown",
      "metadata": {
        "id": "DSvLBZ86wtzW"
      },
      "source": [
        "### Change Categorical Type Data to Numerical Type Data\n",
        "\n",
        "---\n",
        "\n"
      ]
    },
    {
      "cell_type": "code",
      "execution_count": null,
      "metadata": {},
      "outputs": [],
      "source": [
        "##Pairplot\n",
        "\n",
        "sns.pairplot(df)"
      ]
    },
    {
      "cell_type": "code",
      "execution_count": 11,
      "metadata": {
        "colab": {
          "base_uri": "https://localhost:8080/"
        },
        "id": "Q-9lJb6F9YAp",
        "outputId": "b71ec054-e244-4c46-f11b-783949999f2e"
      },
      "outputs": [
        {
          "data": {
            "text/plain": [
              "['Airline', 'AirportFrom', 'AirportTo']"
            ]
          },
          "execution_count": 11,
          "metadata": {},
          "output_type": "execute_result"
        }
      ],
      "source": [
        "# get list of categorical columns\n",
        "cat_cols = df.select_dtypes(include=['object']).columns.tolist()\n",
        "cat_cols"
      ]
    },
    {
      "cell_type": "code",
      "execution_count": 12,
      "metadata": {
        "id": "jW7BwkWq9zta"
      },
      "outputs": [],
      "source": [
        "from sklearn.preprocessing import LabelEncoder\n",
        "\n",
        "le = LabelEncoder()\n",
        "\n",
        "for col in cat_cols: \n",
        "    # Encode values in training set\n",
        "    le.fit(df[col])\n",
        "    df[col] = le.transform(df[col])"
      ]
    },
    {
      "cell_type": "code",
      "execution_count": 13,
      "metadata": {
        "colab": {
          "base_uri": "https://localhost:8080/"
        },
        "id": "EhpxVrMA918A",
        "outputId": "e7008575-a1d6-43cb-85ce-56dcff193cdc"
      },
      "outputs": [
        {
          "data": {
            "text/plain": [
              "[]"
            ]
          },
          "execution_count": 13,
          "metadata": {},
          "output_type": "execute_result"
        }
      ],
      "source": [
        "# get list of categorical columns\n",
        "cat_cols = df.select_dtypes(include=['object']).columns.tolist()\n",
        "cat_cols"
      ]
    },
    {
      "cell_type": "markdown",
      "metadata": {
        "id": "erAPZET8wzGU"
      },
      "source": [
        "### Pairplot \n",
        "\n",
        "---\n",
        "\n"
      ]
    },
    {
      "cell_type": "code",
      "execution_count": 29,
      "metadata": {
        "colab": {
          "base_uri": "https://localhost:8080/"
        },
        "id": "wNWBsxny95HG",
        "outputId": "b771fea4-e5ac-42cf-b9a0-24c2737c16d3"
      },
      "outputs": [
        {
          "ename": "TypeError",
          "evalue": "pairplot() got an unexpected keyword argument 'title'",
          "output_type": "error",
          "traceback": [
            "\u001b[0;31m---------------------------------------------------------------------------\u001b[0m",
            "\u001b[0;31mTypeError\u001b[0m                                 Traceback (most recent call last)",
            "Cell \u001b[0;32mIn[29], line 5\u001b[0m\n\u001b[1;32m      1\u001b[0m pair_df \u001b[39m=\u001b[39m df\u001b[39m.\u001b[39msample(frac\u001b[39m=\u001b[39m\u001b[39m0.01\u001b[39m, random_state\u001b[39m=\u001b[39m\u001b[39m1\u001b[39m)\u001b[39m.\u001b[39mdrop([\u001b[39m'\u001b[39m\u001b[39mFlight\u001b[39m\u001b[39m'\u001b[39m], axis\u001b[39m=\u001b[39m\u001b[39m1\u001b[39m)\n\u001b[1;32m      3\u001b[0m \u001b[39m## Change Class to categorical\u001b[39;00m\n\u001b[0;32m----> 5\u001b[0m sns\u001b[39m.\u001b[39;49mpairplot(pair_df, hue\u001b[39m=\u001b[39;49m\u001b[39m\"\u001b[39;49m\u001b[39mClass\u001b[39;49m\u001b[39m\"\u001b[39;49m, kind\u001b[39m=\u001b[39;49m\u001b[39m\"\u001b[39;49m\u001b[39mreg\u001b[39;49m\u001b[39m\"\u001b[39;49m, title\u001b[39m=\u001b[39;49m\u001b[39m\"\u001b[39;49m\u001b[39mPairplot of Airline Delay Dataset\u001b[39;49m\u001b[39m\"\u001b[39;49m, palette\u001b[39m=\u001b[39;49m\u001b[39m\"\u001b[39;49m\u001b[39mhusl\u001b[39;49m\u001b[39m\"\u001b[39;49m, height\u001b[39m=\u001b[39;49m\u001b[39m2\u001b[39;49m, diag_kind\u001b[39m=\u001b[39;49m\u001b[39m\"\u001b[39;49m\u001b[39mkde\u001b[39;49m\u001b[39m\"\u001b[39;49m, diag_kws\u001b[39m=\u001b[39;49m\u001b[39mdict\u001b[39;49m(shade\u001b[39m=\u001b[39;49m\u001b[39mTrue\u001b[39;49;00m), plot_kws\u001b[39m=\u001b[39;49m\u001b[39mdict\u001b[39;49m(s\u001b[39m=\u001b[39;49m\u001b[39m10\u001b[39;49m, edgecolor\u001b[39m=\u001b[39;49m\u001b[39m\"\u001b[39;49m\u001b[39mb\u001b[39;49m\u001b[39m\"\u001b[39;49m, linewidth\u001b[39m=\u001b[39;49m\u001b[39m1\u001b[39;49m), markers\u001b[39m=\u001b[39;49m[\u001b[39m\"\u001b[39;49m\u001b[39mo\u001b[39;49m\u001b[39m\"\u001b[39;49m, \u001b[39m\"\u001b[39;49m\u001b[39ms\u001b[39;49m\u001b[39m\"\u001b[39;49m, \u001b[39m\"\u001b[39;49m\u001b[39mD\u001b[39;49m\u001b[39m\"\u001b[39;49m])\n",
            "\u001b[0;31mTypeError\u001b[0m: pairplot() got an unexpected keyword argument 'title'"
          ]
        }
      ],
      "source": [
        "pair_df = df.sample(frac=0.01, random_state=1).drop(['Flight'], axis=1)\n",
        "\n",
        "## Change Class to categorical\n",
        "\n",
        "sns.pairplot(pair_df, hue=\"Class\", kind=\"reg\")"
      ]
    },
    {
      "attachments": {},
      "cell_type": "markdown",
      "metadata": {},
      "source": [
        "### Feature Selection\n",
        "\n",
        "---"
      ]
    },
    {
      "cell_type": "code",
      "execution_count": 22,
      "metadata": {
        "colab": {
          "base_uri": "https://localhost:8080/",
          "height": 301
        },
        "id": "7hcWWdt1AYvK",
        "outputId": "439ff001-aa22-4bd4-d2d4-db807ffa2eda"
      },
      "outputs": [
        {
          "data": {
            "image/png": "[encoded data removed]",
            "text/plain": [
              "<Figure size 640x480 with 1 Axes>"
            ]
          },
          "metadata": {},
          "output_type": "display_data"
        }
      ],
      "source": [
        "\n",
        "#Feature importance is an inbuilt class that comes with Tree Based Classifiers,\n",
        "#we will be using Extra Tree Classifier for extracting the top 10 features for the dataset.\n",
        "\n",
        "#import ExtraTreesClassifier\n",
        "from sklearn.ensemble import ExtraTreesClassifier\n",
        "\n",
        "# #FEATURE SELECTION\n",
        "model = ExtraTreesClassifier()\n",
        "model.fit(X,y)\n",
        "\n",
        "feat_importances = pd.Series(model.feature_importances_, index=X.columns)\n",
        "\n",
        "feat_importances.nlargest(5).plot(kind='barh', color='orange')\n",
        "plt.show()"
      ]
    },
    {
      "attachments": {},
      "cell_type": "markdown",
      "metadata": {},
      "source": [
        "### Data test and train split\n",
        "\n",
        "---"
      ]
    },
    {
      "cell_type": "code",
      "execution_count": 24,
      "metadata": {
        "id": "ALrUXZth98I_"
      },
      "outputs": [],
      "source": [
        "## Select Importance Features from feat_importances\n",
        "features = feat_importances.nlargest(5).index.tolist()\n",
        "X = df[features]\n",
        "y = df['Class']\n",
        "\n",
        "# Split the data into training and testing sets\n",
        "X_train, X_test, y_train, y_test = train_test_split(X, y, test_size=0.2, random_state=42)"
      ]
    },
    {
      "cell_type": "markdown",
      "metadata": {
        "id": "WJjgL8xGR4DZ"
      },
      "source": [
        "## Naive Bayes"
      ]
    },
    {
      "cell_type": "code",
      "execution_count": 26,
      "metadata": {
        "id": "5ZaW3gSOCv5s"
      },
      "outputs": [],
      "source": [
        "from sklearn.naive_bayes import GaussianNB\n",
        "\n",
        "## Gaussian Naive Bayes Model\n",
        "nb = GaussianNB()\n",
        "\n",
        "# Train the model using the training sets\n",
        "nb.fit(X_train, y_train)\n",
        "\n",
        "# Predict the response for test dataset\n",
        "y_pred = nb.predict(X_test)"
      ]
    },
    {
      "cell_type": "code",
      "execution_count": 27,
      "metadata": {},
      "outputs": [
        {
          "name": "stdout",
          "output_type": "stream",
          "text": [
            "Accuracy:  0.5987025023169601\n"
          ]
        },
        {
          "data": {
            "text/plain": [
              "<sklearn.metrics._plot.confusion_matrix.ConfusionMatrixDisplay at 0x12250e850>"
            ]
          },
          "execution_count": 27,
          "metadata": {},
          "output_type": "execute_result"
        },
        {
          "data": {
            "image/png": "[encoded data removed]",
            "text/plain": [
              "<Figure size 640x480 with 2 Axes>"
            ]
          },
          "metadata": {},
          "output_type": "display_data"
        }
      ],
      "source": [
        "# Model Accuracy, how often is the classifier correct?\n",
        "accuracy =  accuracy_score(y_test, y_pred)\n",
        "confusion = confusion_matrix(y_test, y_pred)\n",
        "\n",
        "# Print the accuracy\n",
        "print(\"Accuracy: \", accuracy)\n",
        "\n",
        "# Display the confusion matrix\n",
        "ConfusionMatrixDisplay(confusion, display_labels=['On Time', 'Delayed']).plot()"
      ]
    }
  ],
  "metadata": {
    "colab": {
      "provenance": []
    },
    "kernelspec": {
      "display_name": "ab-kernel",
      "language": "python",
      "name": "ab-kernel"
    },
    "language_info": {
      "codemirror_mode": {
        "name": "ipython",
        "version": 3
      },
      "file_extension": ".py",
      "mimetype": "text/x-python",
      "name": "python",
      "nbconvert_exporter": "python",
      "pygments_lexer": "ipython3",
      "version": "3.9.13"
    }
  },
  "nbformat": 4,
  "nbformat_minor": 0
}
